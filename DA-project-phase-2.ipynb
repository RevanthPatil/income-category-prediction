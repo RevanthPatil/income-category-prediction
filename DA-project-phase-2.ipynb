{
 "cells": [
  {
   "cell_type": "markdown",
   "id": "9917f18e",
   "metadata": {},
   "source": [
    "<h1>Adult Census Income Category Prediction</h1>"
   ]
  },
  {
   "cell_type": "markdown",
   "id": "0042813b",
   "metadata": {},
   "source": [
    "<h2>Initial Set-Up</h2>"
   ]
  },
  {
   "cell_type": "code",
   "execution_count": 1,
   "id": "f636615c",
   "metadata": {},
   "outputs": [],
   "source": [
    "import numpy as np  \n",
    "import pandas as pd  \n",
    "# libraries for visualization\n",
    "import matplotlib.pyplot as plt\n",
    "import seaborn as sns \n",
    "from sklearn.model_selection import train_test_split, GridSearchCV, StratifiedKFold, cross_val_score\n",
    "\n",
    "# data scaling\n",
    "from sklearn.preprocessing import scale, MinMaxScaler\n",
    "# test data\n",
    "from sklearn.metrics import accuracy_score\n",
    "\n",
    "# models\n",
    "from sklearn.naive_bayes import GaussianNB\n",
    "from sklearn import svm\n",
    "from sklearn.ensemble import RandomForestClassifier\n",
    "\n",
    "import xgboost as xgb\n",
    "\n",
    "# libraries for ANN\n",
    " \n",
    "from tensorflow import keras\n",
    "import tensorflow as tf\n",
    "from scikeras.wrappers import KerasClassifier, KerasRegressor"
   ]
  },
  {
   "cell_type": "code",
   "execution_count": 2,
   "id": "a0324fba",
   "metadata": {},
   "outputs": [
    {
     "data": {
      "text/html": [
       "<div>\n",
       "<style scoped>\n",
       "    .dataframe tbody tr th:only-of-type {\n",
       "        vertical-align: middle;\n",
       "    }\n",
       "\n",
       "    .dataframe tbody tr th {\n",
       "        vertical-align: top;\n",
       "    }\n",
       "\n",
       "    .dataframe thead th {\n",
       "        text-align: right;\n",
       "    }\n",
       "</style>\n",
       "<table border=\"1\" class=\"dataframe\">\n",
       "  <thead>\n",
       "    <tr style=\"text-align: right;\">\n",
       "      <th></th>\n",
       "      <th>age</th>\n",
       "      <th>workclass</th>\n",
       "      <th>fnlwgt</th>\n",
       "      <th>education</th>\n",
       "      <th>education.num</th>\n",
       "      <th>marital.status</th>\n",
       "      <th>occupation</th>\n",
       "      <th>relationship</th>\n",
       "      <th>race</th>\n",
       "      <th>sex</th>\n",
       "      <th>capital.gain</th>\n",
       "      <th>capital.loss</th>\n",
       "      <th>hours.per.week</th>\n",
       "      <th>native.country</th>\n",
       "      <th>income</th>\n",
       "    </tr>\n",
       "  </thead>\n",
       "  <tbody>\n",
       "    <tr>\n",
       "      <th>0</th>\n",
       "      <td>90</td>\n",
       "      <td>?</td>\n",
       "      <td>77053</td>\n",
       "      <td>HS-grad</td>\n",
       "      <td>9</td>\n",
       "      <td>Widowed</td>\n",
       "      <td>?</td>\n",
       "      <td>Not-in-family</td>\n",
       "      <td>White</td>\n",
       "      <td>Female</td>\n",
       "      <td>0</td>\n",
       "      <td>4356</td>\n",
       "      <td>40</td>\n",
       "      <td>United-States</td>\n",
       "      <td>&lt;=50K</td>\n",
       "    </tr>\n",
       "    <tr>\n",
       "      <th>1</th>\n",
       "      <td>82</td>\n",
       "      <td>Private</td>\n",
       "      <td>132870</td>\n",
       "      <td>HS-grad</td>\n",
       "      <td>9</td>\n",
       "      <td>Widowed</td>\n",
       "      <td>Exec-managerial</td>\n",
       "      <td>Not-in-family</td>\n",
       "      <td>White</td>\n",
       "      <td>Female</td>\n",
       "      <td>0</td>\n",
       "      <td>4356</td>\n",
       "      <td>18</td>\n",
       "      <td>United-States</td>\n",
       "      <td>&lt;=50K</td>\n",
       "    </tr>\n",
       "    <tr>\n",
       "      <th>2</th>\n",
       "      <td>66</td>\n",
       "      <td>?</td>\n",
       "      <td>186061</td>\n",
       "      <td>Some-college</td>\n",
       "      <td>10</td>\n",
       "      <td>Widowed</td>\n",
       "      <td>?</td>\n",
       "      <td>Unmarried</td>\n",
       "      <td>Black</td>\n",
       "      <td>Female</td>\n",
       "      <td>0</td>\n",
       "      <td>4356</td>\n",
       "      <td>40</td>\n",
       "      <td>United-States</td>\n",
       "      <td>&lt;=50K</td>\n",
       "    </tr>\n",
       "    <tr>\n",
       "      <th>3</th>\n",
       "      <td>54</td>\n",
       "      <td>Private</td>\n",
       "      <td>140359</td>\n",
       "      <td>7th-8th</td>\n",
       "      <td>4</td>\n",
       "      <td>Divorced</td>\n",
       "      <td>Machine-op-inspct</td>\n",
       "      <td>Unmarried</td>\n",
       "      <td>White</td>\n",
       "      <td>Female</td>\n",
       "      <td>0</td>\n",
       "      <td>3900</td>\n",
       "      <td>40</td>\n",
       "      <td>United-States</td>\n",
       "      <td>&lt;=50K</td>\n",
       "    </tr>\n",
       "    <tr>\n",
       "      <th>4</th>\n",
       "      <td>41</td>\n",
       "      <td>Private</td>\n",
       "      <td>264663</td>\n",
       "      <td>Some-college</td>\n",
       "      <td>10</td>\n",
       "      <td>Separated</td>\n",
       "      <td>Prof-specialty</td>\n",
       "      <td>Own-child</td>\n",
       "      <td>White</td>\n",
       "      <td>Female</td>\n",
       "      <td>0</td>\n",
       "      <td>3900</td>\n",
       "      <td>40</td>\n",
       "      <td>United-States</td>\n",
       "      <td>&lt;=50K</td>\n",
       "    </tr>\n",
       "  </tbody>\n",
       "</table>\n",
       "</div>"
      ],
      "text/plain": [
       "   age workclass  fnlwgt     education  education.num marital.status  \\\n",
       "0   90         ?   77053       HS-grad              9        Widowed   \n",
       "1   82   Private  132870       HS-grad              9        Widowed   \n",
       "2   66         ?  186061  Some-college             10        Widowed   \n",
       "3   54   Private  140359       7th-8th              4       Divorced   \n",
       "4   41   Private  264663  Some-college             10      Separated   \n",
       "\n",
       "          occupation   relationship   race     sex  capital.gain  \\\n",
       "0                  ?  Not-in-family  White  Female             0   \n",
       "1    Exec-managerial  Not-in-family  White  Female             0   \n",
       "2                  ?      Unmarried  Black  Female             0   \n",
       "3  Machine-op-inspct      Unmarried  White  Female             0   \n",
       "4     Prof-specialty      Own-child  White  Female             0   \n",
       "\n",
       "   capital.loss  hours.per.week native.country income  \n",
       "0          4356              40  United-States  <=50K  \n",
       "1          4356              18  United-States  <=50K  \n",
       "2          4356              40  United-States  <=50K  \n",
       "3          3900              40  United-States  <=50K  \n",
       "4          3900              40  United-States  <=50K  "
      ]
     },
     "execution_count": 2,
     "metadata": {},
     "output_type": "execute_result"
    }
   ],
   "source": [
    "df = pd.read_csv('adult.csv', sep=\",\")\n",
    "df.head()"
   ]
  },
  {
   "cell_type": "code",
   "execution_count": 3,
   "id": "c3df8525",
   "metadata": {},
   "outputs": [
    {
     "data": {
      "text/plain": [
       "(32561, 15)"
      ]
     },
     "execution_count": 3,
     "metadata": {},
     "output_type": "execute_result"
    }
   ],
   "source": [
    "df.shape"
   ]
  },
  {
   "cell_type": "markdown",
   "id": "052505ad",
   "metadata": {},
   "source": [
    "Above output shows our dataset has 32561 rows and 15 columns(attributes) "
   ]
  },
  {
   "cell_type": "markdown",
   "id": "39424947",
   "metadata": {},
   "source": [
    "<h2>Target variable</h2>"
   ]
  },
  {
   "cell_type": "markdown",
   "id": "c2f9a988",
   "metadata": {},
   "source": [
    "* Income is the target variable"
   ]
  },
  {
   "cell_type": "code",
   "execution_count": 4,
   "id": "8c3a87da",
   "metadata": {},
   "outputs": [
    {
     "data": {
      "text/plain": [
       "array(['<=50K', '>50K'], dtype=object)"
      ]
     },
     "execution_count": 4,
     "metadata": {},
     "output_type": "execute_result"
    }
   ],
   "source": [
    "df['income'].unique() # show unique values"
   ]
  },
  {
   "cell_type": "markdown",
   "id": "cc011a6a",
   "metadata": {},
   "source": [
    "* Here we replace with 1 for all entries which have income >50k and with 0 which have income <=50k to count them"
   ]
  },
  {
   "cell_type": "code",
   "execution_count": 5,
   "id": "21b17ed9",
   "metadata": {},
   "outputs": [
    {
     "data": {
      "text/plain": [
       "0    24720\n",
       "1     7841\n",
       "Name: income, dtype: int64"
      ]
     },
     "execution_count": 5,
     "metadata": {},
     "output_type": "execute_result"
    }
   ],
   "source": [
    "df['income'].replace(['<=50K','>50K'],[0,1], inplace=True) # replace with 0 and 1\n",
    "df['income'].value_counts() # show number of samples for each value"
   ]
  },
  {
   "cell_type": "code",
   "execution_count": 6,
   "id": "3b33ac2f",
   "metadata": {},
   "outputs": [
    {
     "data": {
      "text/plain": [
       "0.2408095574460244"
      ]
     },
     "execution_count": 6,
     "metadata": {},
     "output_type": "execute_result"
    }
   ],
   "source": [
    "# we can see the percentage of people that have >50k:\n",
    "np.mean(df['income'])"
   ]
  },
  {
   "cell_type": "code",
   "execution_count": 7,
   "id": "2b0b12b5",
   "metadata": {},
   "outputs": [
    {
     "data": {
      "text/plain": [
       "Private             22696\n",
       "Self-emp-not-inc     2541\n",
       "Local-gov            2093\n",
       "?                    1836\n",
       "State-gov            1298\n",
       "Self-emp-inc         1116\n",
       "Federal-gov           960\n",
       "Without-pay            14\n",
       "Never-worked            7\n",
       "Name: workclass, dtype: int64"
      ]
     },
     "execution_count": 7,
     "metadata": {},
     "output_type": "execute_result"
    }
   ],
   "source": [
    "df['workclass'].value_counts() "
   ]
  },
  {
   "cell_type": "markdown",
   "id": "b4cd7bd6",
   "metadata": {},
   "source": [
    "* Above output displays the number of missing values in  workclass(As we see there are 1836 missing values) and also other attributes with respective number of values"
   ]
  },
  {
   "cell_type": "code",
   "execution_count": 8,
   "id": "479a5a36",
   "metadata": {},
   "outputs": [
    {
     "data": {
      "image/png": "[encoded data removed]",
      "text/plain": [
       "<Figure size 1296x504 with 1 Axes>"
      ]
     },
     "metadata": {
      "needs_background": "light"
     },
     "output_type": "display_data"
    }
   ],
   "source": [
    "# probability of belonging to the group with the highest income\n",
    "workclass_income = df.groupby('workclass')['income'].mean() # there is correlation as expected\n",
    "\n",
    "plt.rcParams['axes.axisbelow'] = True # grid behind graphs bars\n",
    "plt.figure(figsize=(18, 7))\n",
    "plt.ylim(0,1) # values from 0 to 1 as there are probabilities\n",
    "plt.bar(workclass_income.index.astype(str), workclass_income,\n",
    "       color = 'green' , edgecolor='black' )\n",
    "plt.ylabel('Probability', size=20)\n",
    "plt.xlabel('Workclass', size=20)\n",
    "plt.grid(axis='y')"
   ]
  },
  {
   "cell_type": "markdown",
   "id": "b7c4cc24",
   "metadata": {},
   "source": [
    "* As we can see in the above diagram self-employment peeps have higher probability of getting salary >50k"
   ]
  },
  {
   "cell_type": "code",
   "execution_count": 9,
   "id": "00be3b3e",
   "metadata": {},
   "outputs": [
    {
     "data": {
      "text/plain": [
       "array(['HS-grad', 'Some-college', '7th-8th', '10th', 'Doctorate',\n",
       "       'Prof-school', 'Bachelors', 'Masters', '11th', 'Assoc-acdm',\n",
       "       'Assoc-voc', '1st-4th', '5th-6th', '12th', '9th', 'Preschool'],\n",
       "      dtype=object)"
      ]
     },
     "execution_count": 9,
     "metadata": {},
     "output_type": "execute_result"
    }
   ],
   "source": [
    "df['education'].unique()     #there are no null valuse as we can see below"
   ]
  },
  {
   "cell_type": "code",
   "execution_count": 10,
   "id": "4605579f",
   "metadata": {},
   "outputs": [
    {
     "data": {
      "image/png": "[encoded data removed]",
      "text/plain": [
       "<Figure size 1440x576 with 1 Axes>"
      ]
     },
     "metadata": {
      "needs_background": "light"
     },
     "output_type": "display_data"
    }
   ],
   "source": [
    "# probability of belonging to the group with the highest income\n",
    "education_income = df.groupby('education')['income'].mean()\n",
    "\n",
    "plt.figure(figsize=(20, 8))\n",
    "plt.ylim(0,1)\n",
    "plt.xticks(rotation=30) # rotate axis text\n",
    "plt.bar(education_income.index.astype(str), education_income,\n",
    "       color = 'purple', edgecolor='black' )\n",
    "plt.ylabel('Probability of earning >50k', size=20)\n",
    "plt.xlabel('Education', size=20)\n",
    "plt.grid(axis='y')"
   ]
  },
  {
   "cell_type": "markdown",
   "id": "b8516e12",
   "metadata": {},
   "source": [
    "* From the above graph we can infer that doctorate and prof-school educated people have more probability of getting salary of >50k"
   ]
  },
  {
   "cell_type": "code",
   "execution_count": 11,
   "id": "586d3bef",
   "metadata": {},
   "outputs": [
    {
     "data": {
      "text/plain": [
       "array(['Widowed', 'Divorced', 'Separated', 'Never-married',\n",
       "       'Married-civ-spouse', 'Married-spouse-absent', 'Married-AF-spouse'],\n",
       "      dtype=object)"
      ]
     },
     "execution_count": 11,
     "metadata": {},
     "output_type": "execute_result"
    }
   ],
   "source": [
    " df['marital.status'].unique() "
   ]
  },
  {
   "cell_type": "code",
   "execution_count": 12,
   "id": "fcb72579",
   "metadata": {},
   "outputs": [
    {
     "data": {
      "image/png": "[encoded data removed]",
      "text/plain": [
       "<Figure size 432x288 with 1 Axes>"
      ]
     },
     "metadata": {},
     "output_type": "display_data"
    }
   ],
   "source": [
    "# probability of belonging to the group with the highest income\n",
    "marital_income = dict(df.groupby('marital.status')['income'].mean())\n",
    "label = list(marital_income.keys())\n",
    "slices = list(marital_income.values())\n",
    "color=['red','green','yellow','blue','pink','skyblue','purple']\n",
    "plt.pie(slices,labels=label,colors=color,radius=2,autopct=\"%0.2f%%\")\n",
    "plt.show()"
   ]
  },
  {
   "cell_type": "markdown",
   "id": "fc976c75",
   "metadata": {},
   "source": [
    "* Above pie chart shows marital statewise Probability of earning >50k"
   ]
  },
  {
   "cell_type": "markdown",
   "id": "1dfe96aa",
   "metadata": {},
   "source": [
    "* Probabilities are what we would expect. Married people have more probability than the rest."
   ]
  },
  {
   "cell_type": "code",
   "execution_count": 13,
   "id": "14200864",
   "metadata": {},
   "outputs": [
    {
     "data": {
      "text/plain": [
       "Prof-specialty       4140\n",
       "Craft-repair         4099\n",
       "Exec-managerial      4066\n",
       "Adm-clerical         3770\n",
       "Sales                3650\n",
       "Other-service        3295\n",
       "Machine-op-inspct    2002\n",
       "?                    1843\n",
       "Transport-moving     1597\n",
       "Handlers-cleaners    1370\n",
       "Farming-fishing       994\n",
       "Tech-support          928\n",
       "Protective-serv       649\n",
       "Priv-house-serv       149\n",
       "Armed-Forces            9\n",
       "Name: occupation, dtype: int64"
      ]
     },
     "execution_count": 13,
     "metadata": {},
     "output_type": "execute_result"
    }
   ],
   "source": [
    "df['occupation'].value_counts() "
   ]
  },
  {
   "cell_type": "markdown",
   "id": "a55611aa",
   "metadata": {},
   "source": [
    "* As we see above there are 1843 missing values. It must be correlated with workclass"
   ]
  },
  {
   "cell_type": "code",
   "execution_count": 14,
   "id": "10d89559",
   "metadata": {},
   "outputs": [
    {
     "data": {
      "text/plain": [
       "?    1836\n",
       "Name: workclass, dtype: int64"
      ]
     },
     "execution_count": 14,
     "metadata": {},
     "output_type": "execute_result"
    }
   ],
   "source": [
    "# Show null values in common\n",
    "work_ocupation = df.loc[df['workclass'] == df['occupation'],'workclass']\n",
    "work_ocupation.value_counts()"
   ]
  },
  {
   "cell_type": "code",
   "execution_count": 15,
   "id": "d5a45698",
   "metadata": {},
   "outputs": [
    {
     "data": {
      "image/png": "[encoded data removed]",
      "text/plain": [
       "<Figure size 1800x576 with 1 Axes>"
      ]
     },
     "metadata": {
      "needs_background": "light"
     },
     "output_type": "display_data"
    }
   ],
   "source": [
    "# probability of belonging to the group with the highest income\n",
    "occupation_income = df.groupby('occupation')['income'].mean()\n",
    "\n",
    "plt.figure(figsize=(25, 8))\n",
    "plt.ylim(0,1)\n",
    "plt.xticks(rotation=30) # rotate axis text\n",
    "plt.bar(occupation_income.index.astype(str), occupation_income,\n",
    "       color = 'blue', edgecolor='black' )\n",
    "plt.ylabel('Probability of earning >50k', size=20)\n",
    "plt.xlabel('Occupation', size=20)\n",
    "plt.grid(axis='y')"
   ]
  },
  {
   "cell_type": "code",
   "execution_count": 16,
   "id": "b1d54bd5",
   "metadata": {},
   "outputs": [
    {
     "data": {
      "text/plain": [
       "Husband           13193\n",
       "Not-in-family      8305\n",
       "Own-child          5068\n",
       "Unmarried          3446\n",
       "Wife               1568\n",
       "Other-relative      981\n",
       "Name: relationship, dtype: int64"
      ]
     },
     "execution_count": 16,
     "metadata": {},
     "output_type": "execute_result"
    }
   ],
   "source": [
    "df['relationship'].value_counts() "
   ]
  },
  {
   "cell_type": "code",
   "execution_count": 17,
   "id": "69dff82a",
   "metadata": {},
   "outputs": [
    {
     "data": {
      "image/png": "[encoded data removed]",
      "text/plain": [
       "<Figure size 432x288 with 1 Axes>"
      ]
     },
     "metadata": {},
     "output_type": "display_data"
    }
   ],
   "source": [
    "relationship_income = dict(df.groupby('relationship')['income'].mean())\n",
    "label = list(relationship_income.keys())\n",
    "slices = list(relationship_income.values())\n",
    "color=['red','green','yellow','blue','pink','purple']\n",
    "plt.pie(slices,labels=label,colors=color,radius=2,autopct=\"%0.2f%%\")\n",
    "plt.show()"
   ]
  },
  {
   "cell_type": "markdown",
   "id": "cb0b8fb1",
   "metadata": {},
   "source": [
    "* Above pie chart shows relationshipwise Probability of earning >50k\n",
    "* As we see married people earn more than others"
   ]
  },
  {
   "cell_type": "code",
   "execution_count": 18,
   "id": "bc556cea",
   "metadata": {},
   "outputs": [
    {
     "data": {
      "text/plain": [
       "White                 27816\n",
       "Black                  3124\n",
       "Asian-Pac-Islander     1039\n",
       "Amer-Indian-Eskimo      311\n",
       "Other                   271\n",
       "Name: race, dtype: int64"
      ]
     },
     "execution_count": 18,
     "metadata": {},
     "output_type": "execute_result"
    }
   ],
   "source": [
    "df['race'].value_counts()"
   ]
  },
  {
   "cell_type": "markdown",
   "id": "f5330c49",
   "metadata": {},
   "source": [
    "*  There are no null values."
   ]
  },
  {
   "cell_type": "code",
   "execution_count": 19,
   "id": "8a6690a7",
   "metadata": {},
   "outputs": [
    {
     "data": {
      "image/png": "[encoded data removed]",
      "text/plain": [
       "<Figure size 1440x576 with 1 Axes>"
      ]
     },
     "metadata": {
      "needs_background": "light"
     },
     "output_type": "display_data"
    }
   ],
   "source": [
    "race_income = df.groupby('race')['income'].mean()\n",
    "\n",
    "plt.figure(figsize=(20, 8))\n",
    "plt.ylim(0,1)\n",
    "plt.bar(race_income.index.astype(str), race_income,\n",
    "       color = 'gray', edgecolor='black')\n",
    "plt.ylabel('Probability of earning >50k', size=20)\n",
    "plt.xlabel('Race', size=20)\n",
    "plt.grid(axis='y')\n"
   ]
  },
  {
   "cell_type": "markdown",
   "id": "b1b7a744",
   "metadata": {},
   "source": [
    "* As we see Asian-Pac-Islander and White people have increased probability of earning more than 50k"
   ]
  },
  {
   "cell_type": "code",
   "execution_count": 20,
   "id": "3bb94ca2",
   "metadata": {},
   "outputs": [
    {
     "data": {
      "text/plain": [
       "Male      21790\n",
       "Female    10771\n",
       "Name: sex, dtype: int64"
      ]
     },
     "execution_count": 20,
     "metadata": {},
     "output_type": "execute_result"
    }
   ],
   "source": [
    "df['sex'].value_counts()"
   ]
  },
  {
   "cell_type": "code",
   "execution_count": 21,
   "id": "748c7377",
   "metadata": {},
   "outputs": [
    {
     "data": {
      "image/png": "[encoded data removed]",
      "text/plain": [
       "<Figure size 1440x576 with 1 Axes>"
      ]
     },
     "metadata": {
      "needs_background": "light"
     },
     "output_type": "display_data"
    }
   ],
   "source": [
    "sex_income = df.groupby('sex')['income'].mean()\n",
    "\n",
    "plt.figure(figsize=(20, 8))\n",
    "plt.ylim(0,1)\n",
    "plt.bar(sex_income.index.astype(str), sex_income,\n",
    "       color = 'red', edgecolor='black')\n",
    "plt.ylabel('Probability of earning >50k', size=20)\n",
    "plt.xlabel('Sex', size=20)\n",
    "plt.grid(axis='y')"
   ]
  },
  {
   "cell_type": "markdown",
   "id": "bfe6f7e9",
   "metadata": {},
   "source": [
    "* Males have higher probability of earning >50k than females."
   ]
  },
  {
   "cell_type": "code",
   "execution_count": 22,
   "id": "ef5bfc00",
   "metadata": {},
   "outputs": [
    {
     "data": {
      "text/plain": [
       "array(['United-States', '?', 'Mexico', 'Greece', 'Vietnam', 'China',\n",
       "       'Taiwan', 'India', 'Philippines', 'Trinadad&Tobago', 'Canada',\n",
       "       'South', 'Holand-Netherlands', 'Puerto-Rico', 'Poland', 'Iran',\n",
       "       'England', 'Germany', 'Italy', 'Japan', 'Hong', 'Honduras', 'Cuba',\n",
       "       'Ireland', 'Cambodia', 'Peru', 'Nicaragua', 'Dominican-Republic',\n",
       "       'Haiti', 'El-Salvador', 'Hungary', 'Columbia', 'Guatemala',\n",
       "       'Jamaica', 'Ecuador', 'France', 'Yugoslavia', 'Scotland',\n",
       "       'Portugal', 'Laos', 'Thailand', 'Outlying-US(Guam-USVI-etc)'],\n",
       "      dtype=object)"
      ]
     },
     "execution_count": 22,
     "metadata": {},
     "output_type": "execute_result"
    }
   ],
   "source": [
    "df['native.country'].unique() "
   ]
  },
  {
   "cell_type": "markdown",
   "id": "891a9dae",
   "metadata": {},
   "source": [
    "* Here we can observe missing values "
   ]
  },
  {
   "cell_type": "markdown",
   "id": "68da4865",
   "metadata": {},
   "source": [
    "* Below code displays the number of missing values in native.country"
   ]
  },
  {
   "cell_type": "code",
   "execution_count": 23,
   "id": "66bb2a72",
   "metadata": {},
   "outputs": [
    {
     "data": {
      "text/plain": [
       "583"
      ]
     },
     "execution_count": 23,
     "metadata": {},
     "output_type": "execute_result"
    }
   ],
   "source": [
    "df.loc[df['native.country'] == '?', 'native.country'].count() "
   ]
  },
  {
   "cell_type": "code",
   "execution_count": 24,
   "id": "42a859b2",
   "metadata": {},
   "outputs": [
    {
     "data": {
      "text/plain": [
       "0"
      ]
     },
     "execution_count": 24,
     "metadata": {},
     "output_type": "execute_result"
    }
   ],
   "source": [
    "# Show if missing values have something to do with occupation missing data\n",
    "df.loc[df['native.country'] == 'occupation','occupation' ].count()"
   ]
  },
  {
   "cell_type": "code",
   "execution_count": 25,
   "id": "d057ab2d",
   "metadata": {},
   "outputs": [
    {
     "data": {
      "text/plain": [
       "0"
      ]
     },
     "execution_count": 25,
     "metadata": {},
     "output_type": "execute_result"
    }
   ],
   "source": [
    "# Show if missing values have something to do with workclass missing data\n",
    "df.loc[df['native.country'] == 'workclass','workclass' ].count()"
   ]
  },
  {
   "cell_type": "markdown",
   "id": "90ebd40e",
   "metadata": {},
   "source": [
    "<h1>Correlation between variables</h1>"
   ]
  },
  {
   "cell_type": "markdown",
   "id": "5cbd2383",
   "metadata": {},
   "source": [
    "<h2>Education</h2>"
   ]
  },
  {
   "cell_type": "code",
   "execution_count": 26,
   "id": "54bee095",
   "metadata": {},
   "outputs": [
    {
     "data": {
      "text/plain": [
       "array(['HS-grad', 'Some-college', '7th-8th', '10th', 'Doctorate',\n",
       "       'Prof-school', 'Bachelors', 'Masters', '11th', 'Assoc-acdm',\n",
       "       'Assoc-voc', '1st-4th', '5th-6th', '12th', '9th', 'Preschool'],\n",
       "      dtype=object)"
      ]
     },
     "execution_count": 26,
     "metadata": {},
     "output_type": "execute_result"
    }
   ],
   "source": [
    "df['education'].unique()"
   ]
  },
  {
   "cell_type": "markdown",
   "id": "b6e3e020",
   "metadata": {},
   "source": [
    "* No null values (i.e. ?) exists"
   ]
  },
  {
   "cell_type": "code",
   "execution_count": 27,
   "id": "32a37995",
   "metadata": {},
   "outputs": [
    {
     "data": {
      "text/plain": [
       "HS-grad         10501\n",
       "Some-college     7291\n",
       "Bachelors        5355\n",
       "Masters          1723\n",
       "Assoc-voc        1382\n",
       "11th             1175\n",
       "Assoc-acdm       1067\n",
       "10th              933\n",
       "7th-8th           646\n",
       "Prof-school       576\n",
       "9th               514\n",
       "12th              433\n",
       "Doctorate         413\n",
       "5th-6th           333\n",
       "1st-4th           168\n",
       "Preschool          51\n",
       "Name: education, dtype: int64"
      ]
     },
     "execution_count": 27,
     "metadata": {},
     "output_type": "execute_result"
    }
   ],
   "source": [
    "df['education'].value_counts()"
   ]
  },
  {
   "cell_type": "code",
   "execution_count": 28,
   "id": "85601c26",
   "metadata": {},
   "outputs": [
    {
     "data": {
      "image/png": "[encoded data removed]",
      "text/plain": [
       "<Figure size 1440x504 with 1 Axes>"
      ]
     },
     "metadata": {
      "needs_background": "light"
     },
     "output_type": "display_data"
    }
   ],
   "source": [
    "dt = {}\n",
    "dttotl = dict(df['education'].value_counts()) # Gathers the frequencies of each element in education attribute.\n",
    "prob = {}\n",
    "\n",
    "# Counting number of people having income >50K.\n",
    "for index, row in df.iterrows():\n",
    "    \n",
    "    if (row['income'] == 1):\n",
    "        try:\n",
    "            dt[row['education']] += 1\n",
    "        except:\n",
    "            dt[row['education']] = 1\n",
    "\n",
    "for key in dt:\n",
    "    prob[key] = dt[key] / dttotl[key] # Calculates the probability of getting >50K income for a particular education.\n",
    "\n",
    "edu = list(prob.keys())\n",
    "pb = list(prob.values())\n",
    "\n",
    "plt.figure(figsize = (20, 7))\n",
    "plt.bar(edu, pb, color = 'Red', align = 'edge', width = 0.3)\n",
    "plt.xlabel(\"Education Completed\")\n",
    "plt.ylabel(\"Probability of getting >50K income\")\n",
    "plt.show()"
   ]
  },
  {
   "cell_type": "code",
   "execution_count": 29,
   "id": "d5b9c769",
   "metadata": {},
   "outputs": [
    {
     "data": {
      "image/png": "[encoded data removed]",
      "text/plain": [
       "<Figure size 1440x504 with 1 Axes>"
      ]
     },
     "metadata": {
      "needs_background": "light"
     },
     "output_type": "display_data"
    }
   ],
   "source": [
    "dt = {}\n",
    "dttotl = dict(df['education.num'].value_counts())\n",
    "prob = {}\n",
    "\n",
    "for index, row in df.iterrows():\n",
    "    \n",
    "    if (row['income'] == 1):\n",
    "        try:\n",
    "            dt[row['education.num']] += 1\n",
    "        except:\n",
    "            dt[row['education.num']] = 1\n",
    "\n",
    "for key in dt:\n",
    "    prob[key] = dt[key] / dttotl[key]\n",
    "\n",
    "edulvl = list(prob.keys())\n",
    "pb = list(prob.values())\n",
    "\n",
    "plt.figure(figsize = (20, 7))\n",
    "plt.scatter(edulvl, pb)\n",
    "plt.xlabel(\"Education Number\")\n",
    "plt.ylabel(\"Probability of getting >50K income\")\n",
    "plt.show()"
   ]
  },
  {
   "cell_type": "markdown",
   "id": "fbab96f5",
   "metadata": {},
   "source": [
    "* Above scatter plot shows the correlation between income (here scale of income is probability form) and education(here education is represented by education number)"
   ]
  },
  {
   "cell_type": "markdown",
   "id": "44639f9f",
   "metadata": {},
   "source": [
    "<h2>Age</h2>"
   ]
  },
  {
   "cell_type": "code",
   "execution_count": 30,
   "id": "4026fef0",
   "metadata": {},
   "outputs": [
    {
     "data": {
      "text/plain": [
       "array([90, 82, 66, 54, 41, 34, 38, 74, 68, 45, 52, 32, 51, 46, 57, 22, 37,\n",
       "       29, 61, 21, 33, 49, 23, 59, 60, 63, 53, 44, 43, 71, 48, 73, 67, 40,\n",
       "       50, 42, 39, 55, 47, 31, 58, 62, 36, 72, 78, 83, 26, 70, 27, 35, 81,\n",
       "       65, 25, 28, 56, 69, 20, 30, 24, 64, 75, 19, 77, 80, 18, 17, 76, 79,\n",
       "       88, 84, 85, 86, 87], dtype=int64)"
      ]
     },
     "execution_count": 30,
     "metadata": {},
     "output_type": "execute_result"
    }
   ],
   "source": [
    "df['age'].unique()"
   ]
  },
  {
   "cell_type": "code",
   "execution_count": 31,
   "id": "048529e1",
   "metadata": {},
   "outputs": [
    {
     "data": {
      "text/plain": [
       "36    898\n",
       "31    888\n",
       "34    886\n",
       "23    877\n",
       "35    876\n",
       "     ... \n",
       "83      6\n",
       "85      3\n",
       "88      3\n",
       "87      1\n",
       "86      1\n",
       "Name: age, Length: 73, dtype: int64"
      ]
     },
     "execution_count": 31,
     "metadata": {},
     "output_type": "execute_result"
    }
   ],
   "source": [
    "df['age'].value_counts()"
   ]
  },
  {
   "cell_type": "code",
   "execution_count": 32,
   "id": "b7d5598d",
   "metadata": {},
   "outputs": [
    {
     "data": {
      "image/png": "[encoded data removed]",
      "text/plain": [
       "<Figure size 1440x504 with 1 Axes>"
      ]
     },
     "metadata": {
      "needs_background": "light"
     },
     "output_type": "display_data"
    }
   ],
   "source": [
    "dt = {}\n",
    "dttotl = dict(df['age'].value_counts())\n",
    "prob = {}\n",
    "\n",
    "for index, row in df.iterrows():\n",
    "    \n",
    "    if (row['income'] == 1):\n",
    "        try:\n",
    "            dt[row['age']] += 1\n",
    "        except:\n",
    "            dt[row['age']] = 1\n",
    "\n",
    "for key in dt:\n",
    "    prob[key] = dt[key] / dttotl[key]\n",
    "\n",
    "age = list(prob.keys())\n",
    "pb = list(prob.values())\n",
    "\n",
    "plt.figure(figsize = (20, 7))\n",
    "plt.scatter(age, pb)\n",
    "plt.xlabel(\"Age\")\n",
    "plt.ylabel(\"Probability of getting >50K income\")\n",
    "plt.show()"
   ]
  },
  {
   "cell_type": "markdown",
   "id": "eb1c33aa",
   "metadata": {},
   "source": [
    "* Above scatter plot shows the correlation between income (here scale of income is probability form) and age of the person\n",
    "* As we can observe from the graph 45-55 age people have more income "
   ]
  },
  {
   "cell_type": "markdown",
   "id": "a0dd39c1",
   "metadata": {},
   "source": [
    "<h2>Working Hours Per Week</h2>"
   ]
  },
  {
   "cell_type": "code",
   "execution_count": 33,
   "id": "e8fb48b5",
   "metadata": {},
   "outputs": [
    {
     "data": {
      "text/plain": [
       "array([40, 18, 45, 20, 60, 35, 55, 76, 50, 42, 25, 32, 90, 48, 15, 70, 52,\n",
       "       72, 39,  6, 65, 12, 80, 67, 99, 30, 75, 26, 36, 10, 84, 38, 62, 44,\n",
       "        8, 28, 59,  5, 24, 57, 34, 37, 46, 56, 41, 98, 43, 63,  1, 47, 68,\n",
       "       54,  2, 16,  9,  3,  4, 33, 23, 22, 64, 51, 19, 58, 53, 96, 66, 21,\n",
       "        7, 13, 27, 11, 14, 77, 31, 78, 49, 17, 85, 87, 88, 73, 89, 97, 94,\n",
       "       29, 82, 86, 91, 81, 92, 61, 74, 95], dtype=int64)"
      ]
     },
     "execution_count": 33,
     "metadata": {},
     "output_type": "execute_result"
    }
   ],
   "source": [
    "df['hours.per.week'].unique()"
   ]
  },
  {
   "cell_type": "code",
   "execution_count": 34,
   "id": "273638c7",
   "metadata": {},
   "outputs": [
    {
     "data": {
      "text/plain": [
       "40    15217\n",
       "50     2819\n",
       "45     1824\n",
       "60     1475\n",
       "35     1297\n",
       "      ...  \n",
       "92        1\n",
       "94        1\n",
       "87        1\n",
       "74        1\n",
       "82        1\n",
       "Name: hours.per.week, Length: 94, dtype: int64"
      ]
     },
     "execution_count": 34,
     "metadata": {},
     "output_type": "execute_result"
    }
   ],
   "source": [
    "df['hours.per.week'].value_counts()"
   ]
  },
  {
   "cell_type": "code",
   "execution_count": 35,
   "id": "d36e5215",
   "metadata": {},
   "outputs": [
    {
     "data": {
      "image/png": "[encoded data removed]",
      "text/plain": [
       "<Figure size 1440x504 with 1 Axes>"
      ]
     },
     "metadata": {
      "needs_background": "light"
     },
     "output_type": "display_data"
    }
   ],
   "source": [
    "dt = {}\n",
    "dttotl = dict(df['hours.per.week'].value_counts())\n",
    "prob = {}\n",
    "\n",
    "for index, row in df.iterrows():\n",
    "    \n",
    "    if (row['income'] == 1):\n",
    "        try:\n",
    "            dt[row['hours.per.week']] += 1\n",
    "        except:\n",
    "            dt[row['hours.per.week']] = 1\n",
    "\n",
    "for key in dt:\n",
    "    prob[key] = dt[key] / dttotl[key] # Calculates the probability of getting >50K income for a particular education.\n",
    "\n",
    "hours = list(prob.keys())\n",
    "pb = list(prob.values())\n",
    "\n",
    "plt.figure(figsize = (20, 7))\n",
    "plt.scatter(hours, pb)\n",
    "plt.xlabel(\"Working Hours\")\n",
    "plt.ylabel(\"Probability of getting >50K income\")\n",
    "plt.show()"
   ]
  },
  {
   "cell_type": "markdown",
   "id": "24124796",
   "metadata": {},
   "source": [
    "* Above scatter plot shows the correlation between income (here scale of income is probability form) and working hours per week of the person\n",
    "* Here we can observe positive correlation i.e as working hours per week increases the probability of having salary >50k increases "
   ]
  },
  {
   "cell_type": "markdown",
   "id": "e81a6a4c",
   "metadata": {},
   "source": [
    "<h2>CORRELATION MATRIX</h2>"
   ]
  },
  {
   "cell_type": "code",
   "execution_count": 36,
   "id": "638de981",
   "metadata": {},
   "outputs": [
    {
     "name": "stdout",
     "output_type": "stream",
     "text": [
      "<class 'pandas.core.frame.DataFrame'>\n",
      "RangeIndex: 32561 entries, 0 to 32560\n",
      "Data columns (total 15 columns):\n",
      " #   Column          Non-Null Count  Dtype \n",
      "---  ------          --------------  ----- \n",
      " 0   age             32561 non-null  int64 \n",
      " 1   workclass       32561 non-null  object\n",
      " 2   fnlwgt          32561 non-null  int64 \n",
      " 3   education       32561 non-null  object\n",
      " 4   education.num   32561 non-null  int64 \n",
      " 5   marital.status  32561 non-null  object\n",
      " 6   occupation      32561 non-null  object\n",
      " 7   relationship    32561 non-null  object\n",
      " 8   race            32561 non-null  object\n",
      " 9   sex             32561 non-null  object\n",
      " 10  capital.gain    32561 non-null  int64 \n",
      " 11  capital.loss    32561 non-null  int64 \n",
      " 12  hours.per.week  32561 non-null  int64 \n",
      " 13  native.country  32561 non-null  object\n",
      " 14  income          32561 non-null  int64 \n",
      "dtypes: int64(7), object(8)\n",
      "memory usage: 3.7+ MB\n"
     ]
    }
   ],
   "source": [
    "df.info() # Show continuous variables"
   ]
  },
  {
   "cell_type": "code",
   "execution_count": 37,
   "id": "746e2f39",
   "metadata": {},
   "outputs": [
    {
     "data": {
      "text/plain": [
       "<AxesSubplot:>"
      ]
     },
     "execution_count": 37,
     "metadata": {},
     "output_type": "execute_result"
    },
    {
     "data": {
      "image/png": "[encoded data removed]",
      "text/plain": [
       "<Figure size 1440x576 with 2 Axes>"
      ]
     },
     "metadata": {
      "needs_background": "light"
     },
     "output_type": "display_data"
    }
   ],
   "source": [
    "# Group all continuous variables \n",
    "df_continuous = df[['income','age', 'fnlwgt', 'education.num', 'capital.gain', 'capital.loss', 'hours.per.week']]\n",
    "# Correlation matrix\n",
    "plt.figure(figsize=(20, 8))\n",
    "sns.heatmap(data=df_continuous.corr(), annot=True, vmin=-1, vmax=1)"
   ]
  },
  {
   "cell_type": "markdown",
   "id": "63c021f4",
   "metadata": {},
   "source": [
    "* Here from the above matrix we come to know which attributes are highly correlated\n",
    "* fnlwgt has less correlation with income \n",
    "* education.num has highest correlation with income"
   ]
  },
  {
   "cell_type": "code",
   "execution_count": 38,
   "id": "f886772e",
   "metadata": {},
   "outputs": [
    {
     "data": {
      "text/plain": [
       "array([90, 82, 66, 54, 41, 34, 38, 74, 68, 45, 52, 32, 51, 46, 57, 22, 37,\n",
       "       29, 61, 21, 33, 49, 23, 59, 60, 63, 53, 44, 43, 71, 48, 73, 67, 40,\n",
       "       50, 42, 39, 55, 47, 31, 58, 62, 36, 72, 78, 83, 26, 70, 27, 35, 81,\n",
       "       65, 25, 28, 56, 69, 20, 30, 24, 64, 75, 19, 77, 80, 18, 17, 76, 79,\n",
       "       88, 84, 85, 86, 87], dtype=int64)"
      ]
     },
     "execution_count": 38,
     "metadata": {},
     "output_type": "execute_result"
    }
   ],
   "source": [
    "df['age'].unique()"
   ]
  },
  {
   "cell_type": "code",
   "execution_count": 39,
   "id": "4df7bfdb",
   "metadata": {},
   "outputs": [
    {
     "data": {
      "text/plain": [
       "age\n",
       "17    395\n",
       "18    550\n",
       "19    712\n",
       "20    753\n",
       "21    720\n",
       "     ... \n",
       "85      3\n",
       "86      1\n",
       "87      1\n",
       "88      3\n",
       "90     43\n",
       "Name: age, Length: 73, dtype: int64"
      ]
     },
     "execution_count": 39,
     "metadata": {},
     "output_type": "execute_result"
    }
   ],
   "source": [
    "df.groupby('age')['age'].count()"
   ]
  },
  {
   "cell_type": "code",
   "execution_count": 40,
   "id": "f4a33ea3",
   "metadata": {},
   "outputs": [
    {
     "data": {
      "image/png": "[encoded data removed]",
      "text/plain": [
       "<Figure size 1440x576 with 1 Axes>"
      ]
     },
     "metadata": {
      "needs_background": "light"
     },
     "output_type": "display_data"
    }
   ],
   "source": [
    "# plot histogram\n",
    "plt.figure(figsize=(20, 8))\n",
    "plt.hist(df['age'],density=False, bins=20, color = 'purple')\n",
    "plt.ylabel('Frequency', size=20)\n",
    "plt.xlabel('Age', size=20)\n",
    "plt.grid(axis='y')"
   ]
  },
  {
   "cell_type": "markdown",
   "id": "4656a509",
   "metadata": {},
   "source": [
    "* The data is right skewed. More samples of younger people is present. This will be taken care by stratified sampling during model building"
   ]
  },
  {
   "cell_type": "code",
   "execution_count": 41,
   "id": "e265fd63",
   "metadata": {},
   "outputs": [
    {
     "data": {
      "text/plain": [
       "income\n",
       "0    36.783738\n",
       "1    44.249841\n",
       "Name: age, dtype: float64"
      ]
     },
     "execution_count": 41,
     "metadata": {},
     "output_type": "execute_result"
    }
   ],
   "source": [
    "# Show average age by income\n",
    "df.groupby(\"income\")[\"age\"].mean() "
   ]
  },
  {
   "cell_type": "markdown",
   "id": "827ca542",
   "metadata": {},
   "source": [
    "* People with more than 50k are on average older."
   ]
  },
  {
   "cell_type": "code",
   "execution_count": 42,
   "id": "2f5c799a",
   "metadata": {},
   "outputs": [
    {
     "data": {
      "image/png": "[encoded data removed]",
      "text/plain": [
       "<Figure size 1440x576 with 1 Axes>"
      ]
     },
     "metadata": {
      "needs_background": "light"
     },
     "output_type": "display_data"
    }
   ],
   "source": [
    "# divide age into groups\n",
    "age_range = pd.cut(df['age'], bins = [20,30,40,50,60,70,80,90])\n",
    "\n",
    "# show probability of belonging to the group with the highest income\n",
    "age_income = df.groupby(age_range)['income'].mean()\n",
    "\n",
    "# barplot showing probability of belonging to the group with the highest income per age range\n",
    "plt.figure(figsize=(20, 8))\n",
    "plt.ylim(0,1)\n",
    "plt.bar(age_income.index.astype(str), age_income, color = 'pink',\n",
    "       edgecolor='black')\n",
    "plt.ylabel('Probability of earning >50k', size=20)\n",
    "plt.xlabel('Age range', size=20)\n",
    "plt.grid(axis='y')"
   ]
  },
  {
   "cell_type": "markdown",
   "id": "0a64f6b7",
   "metadata": {},
   "source": [
    "* Results match with what we would expect(i.e people of age between 40-60 have more income)"
   ]
  },
  {
   "cell_type": "code",
   "execution_count": 43,
   "id": "906d04f6",
   "metadata": {
    "scrolled": false
   },
   "outputs": [
    {
     "data": {
      "image/png": "[encoded data removed]",
      "text/plain": [
       "<Figure size 1080x576 with 1 Axes>"
      ]
     },
     "metadata": {
      "needs_background": "light"
     },
     "output_type": "display_data"
    }
   ],
   "source": [
    "# plot histogram\n",
    "plt.figure(figsize=(15, 8))\n",
    "plt.hist(df['hours.per.week'],density=False, bins=15,  color = 'purple')\n",
    "plt.ylabel('Frequency', size=20)\n",
    "plt.xlabel('Hours per week', size=20)\n",
    "plt.grid(axis='y')"
   ]
  },
  {
   "cell_type": "markdown",
   "id": "cfeb4a01",
   "metadata": {},
   "source": [
    "* More people work between 30-50 hours a week"
   ]
  },
  {
   "cell_type": "markdown",
   "id": "9906e894",
   "metadata": {},
   "source": [
    "<h1>CLEANING THE DATA</h1>"
   ]
  },
  {
   "cell_type": "markdown",
   "id": "a989ea7a",
   "metadata": {},
   "source": [
    "<h2>Drop useless variables</h2>"
   ]
  },
  {
   "cell_type": "markdown",
   "id": "d11598e0",
   "metadata": {},
   "source": [
    "* We have seen that fnlwgt variable has a really small correlation with the target variable so we can drop it. We can also drop education.num since not doing that it will result in a multicollinearity problem with education."
   ]
  },
  {
   "cell_type": "code",
   "execution_count": 44,
   "id": "b63c09d4",
   "metadata": {},
   "outputs": [
    {
     "data": {
      "text/plain": [
       "(32561, 13)"
      ]
     },
     "execution_count": 44,
     "metadata": {},
     "output_type": "execute_result"
    }
   ],
   "source": [
    "df = df.drop('fnlwgt', axis=1)\n",
    "df = df.drop('education.num', axis=1)\n",
    "df.shape"
   ]
  },
  {
   "cell_type": "markdown",
   "id": "13167ea7",
   "metadata": {},
   "source": [
    "<h2> Deal with missing data </h2>"
   ]
  },
  {
   "cell_type": "markdown",
   "id": "d25c8749",
   "metadata": {},
   "source": [
    "* As we have a lot of data and the missing values is just a small part of the dataset, we drop rows with missing values."
   ]
  },
  {
   "cell_type": "code",
   "execution_count": 45,
   "id": "71bac8bf",
   "metadata": {},
   "outputs": [
    {
     "data": {
      "text/plain": [
       "(30162, 13)"
      ]
     },
     "execution_count": 45,
     "metadata": {},
     "output_type": "execute_result"
    }
   ],
   "source": [
    "df = df.loc[ (df['workclass'] != '?') & (df['occupation'] != '?') & (df['native.country']!= '?')]\n",
    "df.shape"
   ]
  },
  {
   "cell_type": "markdown",
   "id": "d5820784",
   "metadata": {},
   "source": [
    "<h2> Split data and get dummies</h2>\n"
   ]
  },
  {
   "cell_type": "markdown",
   "id": "e7347009",
   "metadata": {},
   "source": [
    "* First we will split the data into dependent and independent variables, and then we will split the dependent variables into continous variables and categorical variables."
   ]
  },
  {
   "cell_type": "code",
   "execution_count": 46,
   "id": "b414e782",
   "metadata": {},
   "outputs": [],
   "source": [
    "X = df.drop('income', axis=1)\n",
    "y = df['income']"
   ]
  },
  {
   "cell_type": "code",
   "execution_count": 47,
   "id": "f12add8c",
   "metadata": {},
   "outputs": [],
   "source": [
    "X_continous  = X[['age', 'capital.gain', 'capital.loss', 'hours.per.week']]\n",
    "\n",
    "X_categorical = X[['workclass', 'education', 'marital.status', 'occupation', 'relationship', 'race',\n",
    "                   'sex', 'native.country']]"
   ]
  },
  {
   "cell_type": "markdown",
   "id": "a236b769",
   "metadata": {},
   "source": [
    "* Now we can get the dummies from the categorical variables and concatenate both continous and categorical datasets."
   ]
  },
  {
   "cell_type": "code",
   "execution_count": 48,
   "id": "0dcea7d8",
   "metadata": {},
   "outputs": [
    {
     "data": {
      "text/html": [
       "<div>\n",
       "<style scoped>\n",
       "    .dataframe tbody tr th:only-of-type {\n",
       "        vertical-align: middle;\n",
       "    }\n",
       "\n",
       "    .dataframe tbody tr th {\n",
       "        vertical-align: top;\n",
       "    }\n",
       "\n",
       "    .dataframe thead th {\n",
       "        text-align: right;\n",
       "    }\n",
       "</style>\n",
       "<table border=\"1\" class=\"dataframe\">\n",
       "  <thead>\n",
       "    <tr style=\"text-align: right;\">\n",
       "      <th></th>\n",
       "      <th>age</th>\n",
       "      <th>capital.gain</th>\n",
       "      <th>capital.loss</th>\n",
       "      <th>hours.per.week</th>\n",
       "      <th>workclass_Federal-gov</th>\n",
       "      <th>workclass_Local-gov</th>\n",
       "      <th>workclass_Private</th>\n",
       "      <th>workclass_Self-emp-inc</th>\n",
       "      <th>workclass_Self-emp-not-inc</th>\n",
       "      <th>workclass_State-gov</th>\n",
       "      <th>...</th>\n",
       "      <th>native.country_Portugal</th>\n",
       "      <th>native.country_Puerto-Rico</th>\n",
       "      <th>native.country_Scotland</th>\n",
       "      <th>native.country_South</th>\n",
       "      <th>native.country_Taiwan</th>\n",
       "      <th>native.country_Thailand</th>\n",
       "      <th>native.country_Trinadad&amp;Tobago</th>\n",
       "      <th>native.country_United-States</th>\n",
       "      <th>native.country_Vietnam</th>\n",
       "      <th>native.country_Yugoslavia</th>\n",
       "    </tr>\n",
       "  </thead>\n",
       "  <tbody>\n",
       "    <tr>\n",
       "      <th>1</th>\n",
       "      <td>82</td>\n",
       "      <td>0</td>\n",
       "      <td>4356</td>\n",
       "      <td>18</td>\n",
       "      <td>0</td>\n",
       "      <td>0</td>\n",
       "      <td>1</td>\n",
       "      <td>0</td>\n",
       "      <td>0</td>\n",
       "      <td>0</td>\n",
       "      <td>...</td>\n",
       "      <td>0</td>\n",
       "      <td>0</td>\n",
       "      <td>0</td>\n",
       "      <td>0</td>\n",
       "      <td>0</td>\n",
       "      <td>0</td>\n",
       "      <td>0</td>\n",
       "      <td>1</td>\n",
       "      <td>0</td>\n",
       "      <td>0</td>\n",
       "    </tr>\n",
       "    <tr>\n",
       "      <th>3</th>\n",
       "      <td>54</td>\n",
       "      <td>0</td>\n",
       "      <td>3900</td>\n",
       "      <td>40</td>\n",
       "      <td>0</td>\n",
       "      <td>0</td>\n",
       "      <td>1</td>\n",
       "      <td>0</td>\n",
       "      <td>0</td>\n",
       "      <td>0</td>\n",
       "      <td>...</td>\n",
       "      <td>0</td>\n",
       "      <td>0</td>\n",
       "      <td>0</td>\n",
       "      <td>0</td>\n",
       "      <td>0</td>\n",
       "      <td>0</td>\n",
       "      <td>0</td>\n",
       "      <td>1</td>\n",
       "      <td>0</td>\n",
       "      <td>0</td>\n",
       "    </tr>\n",
       "    <tr>\n",
       "      <th>4</th>\n",
       "      <td>41</td>\n",
       "      <td>0</td>\n",
       "      <td>3900</td>\n",
       "      <td>40</td>\n",
       "      <td>0</td>\n",
       "      <td>0</td>\n",
       "      <td>1</td>\n",
       "      <td>0</td>\n",
       "      <td>0</td>\n",
       "      <td>0</td>\n",
       "      <td>...</td>\n",
       "      <td>0</td>\n",
       "      <td>0</td>\n",
       "      <td>0</td>\n",
       "      <td>0</td>\n",
       "      <td>0</td>\n",
       "      <td>0</td>\n",
       "      <td>0</td>\n",
       "      <td>1</td>\n",
       "      <td>0</td>\n",
       "      <td>0</td>\n",
       "    </tr>\n",
       "    <tr>\n",
       "      <th>5</th>\n",
       "      <td>34</td>\n",
       "      <td>0</td>\n",
       "      <td>3770</td>\n",
       "      <td>45</td>\n",
       "      <td>0</td>\n",
       "      <td>0</td>\n",
       "      <td>1</td>\n",
       "      <td>0</td>\n",
       "      <td>0</td>\n",
       "      <td>0</td>\n",
       "      <td>...</td>\n",
       "      <td>0</td>\n",
       "      <td>0</td>\n",
       "      <td>0</td>\n",
       "      <td>0</td>\n",
       "      <td>0</td>\n",
       "      <td>0</td>\n",
       "      <td>0</td>\n",
       "      <td>1</td>\n",
       "      <td>0</td>\n",
       "      <td>0</td>\n",
       "    </tr>\n",
       "    <tr>\n",
       "      <th>6</th>\n",
       "      <td>38</td>\n",
       "      <td>0</td>\n",
       "      <td>3770</td>\n",
       "      <td>40</td>\n",
       "      <td>0</td>\n",
       "      <td>0</td>\n",
       "      <td>1</td>\n",
       "      <td>0</td>\n",
       "      <td>0</td>\n",
       "      <td>0</td>\n",
       "      <td>...</td>\n",
       "      <td>0</td>\n",
       "      <td>0</td>\n",
       "      <td>0</td>\n",
       "      <td>0</td>\n",
       "      <td>0</td>\n",
       "      <td>0</td>\n",
       "      <td>0</td>\n",
       "      <td>1</td>\n",
       "      <td>0</td>\n",
       "      <td>0</td>\n",
       "    </tr>\n",
       "    <tr>\n",
       "      <th>...</th>\n",
       "      <td>...</td>\n",
       "      <td>...</td>\n",
       "      <td>...</td>\n",
       "      <td>...</td>\n",
       "      <td>...</td>\n",
       "      <td>...</td>\n",
       "      <td>...</td>\n",
       "      <td>...</td>\n",
       "      <td>...</td>\n",
       "      <td>...</td>\n",
       "      <td>...</td>\n",
       "      <td>...</td>\n",
       "      <td>...</td>\n",
       "      <td>...</td>\n",
       "      <td>...</td>\n",
       "      <td>...</td>\n",
       "      <td>...</td>\n",
       "      <td>...</td>\n",
       "      <td>...</td>\n",
       "      <td>...</td>\n",
       "      <td>...</td>\n",
       "    </tr>\n",
       "    <tr>\n",
       "      <th>32556</th>\n",
       "      <td>22</td>\n",
       "      <td>0</td>\n",
       "      <td>0</td>\n",
       "      <td>40</td>\n",
       "      <td>0</td>\n",
       "      <td>0</td>\n",
       "      <td>1</td>\n",
       "      <td>0</td>\n",
       "      <td>0</td>\n",
       "      <td>0</td>\n",
       "      <td>...</td>\n",
       "      <td>0</td>\n",
       "      <td>0</td>\n",
       "      <td>0</td>\n",
       "      <td>0</td>\n",
       "      <td>0</td>\n",
       "      <td>0</td>\n",
       "      <td>0</td>\n",
       "      <td>1</td>\n",
       "      <td>0</td>\n",
       "      <td>0</td>\n",
       "    </tr>\n",
       "    <tr>\n",
       "      <th>32557</th>\n",
       "      <td>27</td>\n",
       "      <td>0</td>\n",
       "      <td>0</td>\n",
       "      <td>38</td>\n",
       "      <td>0</td>\n",
       "      <td>0</td>\n",
       "      <td>1</td>\n",
       "      <td>0</td>\n",
       "      <td>0</td>\n",
       "      <td>0</td>\n",
       "      <td>...</td>\n",
       "      <td>0</td>\n",
       "      <td>0</td>\n",
       "      <td>0</td>\n",
       "      <td>0</td>\n",
       "      <td>0</td>\n",
       "      <td>0</td>\n",
       "      <td>0</td>\n",
       "      <td>1</td>\n",
       "      <td>0</td>\n",
       "      <td>0</td>\n",
       "    </tr>\n",
       "    <tr>\n",
       "      <th>32558</th>\n",
       "      <td>40</td>\n",
       "      <td>0</td>\n",
       "      <td>0</td>\n",
       "      <td>40</td>\n",
       "      <td>0</td>\n",
       "      <td>0</td>\n",
       "      <td>1</td>\n",
       "      <td>0</td>\n",
       "      <td>0</td>\n",
       "      <td>0</td>\n",
       "      <td>...</td>\n",
       "      <td>0</td>\n",
       "      <td>0</td>\n",
       "      <td>0</td>\n",
       "      <td>0</td>\n",
       "      <td>0</td>\n",
       "      <td>0</td>\n",
       "      <td>0</td>\n",
       "      <td>1</td>\n",
       "      <td>0</td>\n",
       "      <td>0</td>\n",
       "    </tr>\n",
       "    <tr>\n",
       "      <th>32559</th>\n",
       "      <td>58</td>\n",
       "      <td>0</td>\n",
       "      <td>0</td>\n",
       "      <td>40</td>\n",
       "      <td>0</td>\n",
       "      <td>0</td>\n",
       "      <td>1</td>\n",
       "      <td>0</td>\n",
       "      <td>0</td>\n",
       "      <td>0</td>\n",
       "      <td>...</td>\n",
       "      <td>0</td>\n",
       "      <td>0</td>\n",
       "      <td>0</td>\n",
       "      <td>0</td>\n",
       "      <td>0</td>\n",
       "      <td>0</td>\n",
       "      <td>0</td>\n",
       "      <td>1</td>\n",
       "      <td>0</td>\n",
       "      <td>0</td>\n",
       "    </tr>\n",
       "    <tr>\n",
       "      <th>32560</th>\n",
       "      <td>22</td>\n",
       "      <td>0</td>\n",
       "      <td>0</td>\n",
       "      <td>20</td>\n",
       "      <td>0</td>\n",
       "      <td>0</td>\n",
       "      <td>1</td>\n",
       "      <td>0</td>\n",
       "      <td>0</td>\n",
       "      <td>0</td>\n",
       "      <td>...</td>\n",
       "      <td>0</td>\n",
       "      <td>0</td>\n",
       "      <td>0</td>\n",
       "      <td>0</td>\n",
       "      <td>0</td>\n",
       "      <td>0</td>\n",
       "      <td>0</td>\n",
       "      <td>1</td>\n",
       "      <td>0</td>\n",
       "      <td>0</td>\n",
       "    </tr>\n",
       "  </tbody>\n",
       "</table>\n",
       "<p>30162 rows × 102 columns</p>\n",
       "</div>"
      ],
      "text/plain": [
       "       age  capital.gain  capital.loss  hours.per.week  workclass_Federal-gov  \\\n",
       "1       82             0          4356              18                      0   \n",
       "3       54             0          3900              40                      0   \n",
       "4       41             0          3900              40                      0   \n",
       "5       34             0          3770              45                      0   \n",
       "6       38             0          3770              40                      0   \n",
       "...    ...           ...           ...             ...                    ...   \n",
       "32556   22             0             0              40                      0   \n",
       "32557   27             0             0              38                      0   \n",
       "32558   40             0             0              40                      0   \n",
       "32559   58             0             0              40                      0   \n",
       "32560   22             0             0              20                      0   \n",
       "\n",
       "       workclass_Local-gov  workclass_Private  workclass_Self-emp-inc  \\\n",
       "1                        0                  1                       0   \n",
       "3                        0                  1                       0   \n",
       "4                        0                  1                       0   \n",
       "5                        0                  1                       0   \n",
       "6                        0                  1                       0   \n",
       "...                    ...                ...                     ...   \n",
       "32556                    0                  1                       0   \n",
       "32557                    0                  1                       0   \n",
       "32558                    0                  1                       0   \n",
       "32559                    0                  1                       0   \n",
       "32560                    0                  1                       0   \n",
       "\n",
       "       workclass_Self-emp-not-inc  workclass_State-gov  ...  \\\n",
       "1                               0                    0  ...   \n",
       "3                               0                    0  ...   \n",
       "4                               0                    0  ...   \n",
       "5                               0                    0  ...   \n",
       "6                               0                    0  ...   \n",
       "...                           ...                  ...  ...   \n",
       "32556                           0                    0  ...   \n",
       "32557                           0                    0  ...   \n",
       "32558                           0                    0  ...   \n",
       "32559                           0                    0  ...   \n",
       "32560                           0                    0  ...   \n",
       "\n",
       "       native.country_Portugal  native.country_Puerto-Rico  \\\n",
       "1                            0                           0   \n",
       "3                            0                           0   \n",
       "4                            0                           0   \n",
       "5                            0                           0   \n",
       "6                            0                           0   \n",
       "...                        ...                         ...   \n",
       "32556                        0                           0   \n",
       "32557                        0                           0   \n",
       "32558                        0                           0   \n",
       "32559                        0                           0   \n",
       "32560                        0                           0   \n",
       "\n",
       "       native.country_Scotland  native.country_South  native.country_Taiwan  \\\n",
       "1                            0                     0                      0   \n",
       "3                            0                     0                      0   \n",
       "4                            0                     0                      0   \n",
       "5                            0                     0                      0   \n",
       "6                            0                     0                      0   \n",
       "...                        ...                   ...                    ...   \n",
       "32556                        0                     0                      0   \n",
       "32557                        0                     0                      0   \n",
       "32558                        0                     0                      0   \n",
       "32559                        0                     0                      0   \n",
       "32560                        0                     0                      0   \n",
       "\n",
       "       native.country_Thailand  native.country_Trinadad&Tobago  \\\n",
       "1                            0                               0   \n",
       "3                            0                               0   \n",
       "4                            0                               0   \n",
       "5                            0                               0   \n",
       "6                            0                               0   \n",
       "...                        ...                             ...   \n",
       "32556                        0                               0   \n",
       "32557                        0                               0   \n",
       "32558                        0                               0   \n",
       "32559                        0                               0   \n",
       "32560                        0                               0   \n",
       "\n",
       "       native.country_United-States  native.country_Vietnam  \\\n",
       "1                                 1                       0   \n",
       "3                                 1                       0   \n",
       "4                                 1                       0   \n",
       "5                                 1                       0   \n",
       "6                                 1                       0   \n",
       "...                             ...                     ...   \n",
       "32556                             1                       0   \n",
       "32557                             1                       0   \n",
       "32558                             1                       0   \n",
       "32559                             1                       0   \n",
       "32560                             1                       0   \n",
       "\n",
       "       native.country_Yugoslavia  \n",
       "1                              0  \n",
       "3                              0  \n",
       "4                              0  \n",
       "5                              0  \n",
       "6                              0  \n",
       "...                          ...  \n",
       "32556                          0  \n",
       "32557                          0  \n",
       "32558                          0  \n",
       "32559                          0  \n",
       "32560                          0  \n",
       "\n",
       "[30162 rows x 102 columns]"
      ]
     },
     "execution_count": 48,
     "metadata": {},
     "output_type": "execute_result"
    }
   ],
   "source": [
    "X_encoded = pd.get_dummies(X_categorical)\n",
    "# Concatenate both continous and encoded sets:\n",
    "X = pd.concat([X_continous, X_encoded],axis=1)\n",
    "X"
   ]
  },
  {
   "cell_type": "markdown",
   "id": "aa4fd026",
   "metadata": {},
   "source": [
    "<h1> Proposed models </h1>"
   ]
  },
  {
   "cell_type": "markdown",
   "id": "ea1245ae",
   "metadata": {},
   "source": [
    "* In this section we will develop the predictive models."
   ]
  },
  {
   "cell_type": "markdown",
   "id": "a9babb1d",
   "metadata": {},
   "source": [
    "<h2>1.Gaussian Naive Bayes model</h2>"
   ]
  },
  {
   "cell_type": "code",
   "execution_count": 49,
   "id": "466803cc",
   "metadata": {},
   "outputs": [
    {
     "data": {
      "text/plain": [
       "0.7879947749403174"
      ]
     },
     "execution_count": 49,
     "metadata": {},
     "output_type": "execute_result"
    }
   ],
   "source": [
    "# Prepare the data. We only use continous independent variables \n",
    "X_train, X_test, y_train, y_test = train_test_split(X_continous, y, test_size= 1/3,\n",
    "                                                    stratify=y, random_state=10)\n",
    "\n",
    "# MODEL\n",
    "gnb = GaussianNB()\n",
    "gnb = gnb.fit(X_train, y_train)\n",
    "\n",
    "# CROSS VALIDATION\n",
    "cv = StratifiedKFold(n_splits=3)\n",
    "val_cnb = cross_val_score(gnb, X_train, y_train, cv=cv).mean()\n",
    "val_cnb # validation set score"
   ]
  },
  {
   "cell_type": "code",
   "execution_count": 50,
   "id": "d53c408a",
   "metadata": {},
   "outputs": [
    {
     "data": {
      "text/plain": [
       "0.7917246866918639"
      ]
     },
     "execution_count": 50,
     "metadata": {},
     "output_type": "execute_result"
    }
   ],
   "source": [
    "# PREDICTIONS\n",
    "gnb_predictions = gnb.predict(X_test)\n",
    "acc_gnb = accuracy_score(y_test,gnb_predictions)\n",
    "acc_gnb # test set score"
   ]
  },
  {
   "cell_type": "markdown",
   "id": "450963bd",
   "metadata": {},
   "source": [
    "<h2> 2.Random Forest model </h2>"
   ]
  },
  {
   "cell_type": "code",
   "execution_count": 51,
   "id": "fbc4fe0d",
   "metadata": {},
   "outputs": [],
   "source": [
    "# Prepare the data\n",
    "X_train, X_test, y_train, y_test = train_test_split(X, y, test_size= 1/3,\n",
    "                                                    stratify=y, random_state=10)"
   ]
  },
  {
   "cell_type": "code",
   "execution_count": 52,
   "id": "f8bc1572",
   "metadata": {},
   "outputs": [],
   "source": [
    "# HYPERPARAMETERS OPTIMIZATION\n",
    "param_grid = {\n",
    "'max_depth' : [8,10,12,16,18,20],\n",
    "'n_estimators': [50,100,200],\n",
    "'max_samples': [1,0.8,0.6]\n",
    "}\n",
    "\n",
    "cv = StratifiedKFold(n_splits=3)\n",
    "\n",
    "optimal_params = GridSearchCV(\n",
    "    estimator = RandomForestClassifier(),\n",
    "    param_grid = param_grid,\n",
    "    scoring = 'accuracy',\n",
    "    verbose = 2,\n",
    "    cv = cv\n",
    ")\n",
    " \n"
   ]
  },
  {
   "cell_type": "code",
   "execution_count": 53,
   "id": "42e0d79f",
   "metadata": {},
   "outputs": [
    {
     "data": {
      "text/plain": [
       "0.8587127787102519"
      ]
     },
     "execution_count": 53,
     "metadata": {},
     "output_type": "execute_result"
    }
   ],
   "source": [
    "# MODEL\n",
    "Rforest = RandomForestClassifier(max_depth=16,max_samples=0.6, n_estimators=200)\n",
    "Rforest = Rforest.fit(X_train, y_train)\n",
    "\n",
    "# CROSS VALIDATION\n",
    "cv = StratifiedKFold(n_splits=3)\n",
    "val_Rforest = cross_val_score(Rforest, X_train, y_train, cv=cv).mean()\n",
    "val_Rforest # validation score"
   ]
  },
  {
   "cell_type": "code",
   "execution_count": 54,
   "id": "77a87614",
   "metadata": {},
   "outputs": [
    {
     "data": {
      "text/plain": [
       "0.8568728864133678"
      ]
     },
     "execution_count": 54,
     "metadata": {},
     "output_type": "execute_result"
    }
   ],
   "source": [
    "# PREDICTIONS\n",
    "Rforest_predictions = Rforest.predict(X_test)\n",
    "acc_Rforest = accuracy_score(y_test,Rforest_predictions)\n",
    "acc_Rforest # test score"
   ]
  },
  {
   "cell_type": "markdown",
   "id": "8994fe12",
   "metadata": {},
   "source": [
    "<h2>3. XGBoost model</h2>"
   ]
  },
  {
   "cell_type": "code",
   "execution_count": 55,
   "id": "f91a1210",
   "metadata": {},
   "outputs": [],
   "source": [
    "# Prepare the data\n",
    "X_train, X_test, y_train, y_test = train_test_split(X, y, test_size= 1/3,stratify=y, random_state=10)"
   ]
  },
  {
   "cell_type": "code",
   "execution_count": 56,
   "id": "07042b6f",
   "metadata": {},
   "outputs": [],
   "source": [
    "# HYPERPARAMETER OPTIMIZATION\n",
    "\n",
    "# ROUND 1\n",
    "\n",
    "param_grid = {\n",
    "    'max_depth': [3, 5, 7],\n",
    "    'learning_rate': [0.3, 0.1, 0.05],\n",
    "    'gamma': [0, 1, 10],\n",
    "    'reg_lambda': [0, 1, 10]\n",
    "}\n",
    "\n",
    "\n",
    "cv = StratifiedKFold(n_splits=3)\n",
    "\n",
    "optimal_params = GridSearchCV(\n",
    "    estimator=xgb.XGBClassifier(objective='binary:logistic', #for binary classification\n",
    "                                eval_metric=\"logloss\",\n",
    "                                use_label_encoder=False), #avoid warning (since we have done encoding)\n",
    "    param_grid=param_grid,\n",
    "    scoring='accuracy',\n",
    "    verbose=2,\n",
    "    cv = cv\n",
    ")\n",
    "\n",
    " \n",
    "# ROUND 2\n",
    "\n",
    "\n",
    "param_grid = {\n",
    "    'max_depth': [4, 5, 6],\n",
    "    'learning_rate': [0.3, 0.5],\n",
    "    'subsample': [1, 0.8, 0.6, 0.4],\n",
    "    'gamma' : [10, 50, 100]\n",
    "}\n",
    "\n",
    "\n",
    "\n",
    "cv = StratifiedKFold(n_splits=3)\n",
    "\n",
    "optimal_params = GridSearchCV(\n",
    "    estimator=xgb.XGBClassifier(objective='binary:logistic', #for binary classification\n",
    "                                eval_metric=\"logloss\",\n",
    "                                learning_rate= 0.1,\n",
    "                                reg_lambda=0,\n",
    "                                use_label_encoder=False), #avoid warning (since we have done encoding)\n",
    "    param_grid=param_grid,\n",
    "    scoring='accuracy',\n",
    "    verbose=2,\n",
    "    cv = cv\n",
    ")\n"
   ]
  },
  {
   "cell_type": "code",
   "execution_count": 57,
   "id": "2e76b72b",
   "metadata": {},
   "outputs": [
    {
     "data": {
      "text/plain": [
       "0.8679132404907727"
      ]
     },
     "execution_count": 57,
     "metadata": {},
     "output_type": "execute_result"
    }
   ],
   "source": [
    "# MODEL\n",
    "xgbm = xgb.XGBClassifier(eval_metric=\"logloss\",\n",
    "                        learning_rate= 0.3,\n",
    "                        reg_lambda=10,\n",
    "                        use_label_encoder=False, # as we have done encoding\n",
    "                        max_depth=5,\n",
    "                        subsample=1)\n",
    "\n",
    "xgbm = xgbm.fit(X_train, y_train)\n",
    "\n",
    "# CROSS VALIDATION\n",
    "cv = StratifiedKFold(n_splits=3)\n",
    "val_xgbm = cross_val_score(xgbm, X_train, y_train, cv=cv).mean()\n",
    "val_xgbm"
   ]
  },
  {
   "cell_type": "code",
   "execution_count": 58,
   "id": "772f4075",
   "metadata": {},
   "outputs": [
    {
     "data": {
      "text/plain": [
       "0.8685100457529341"
      ]
     },
     "execution_count": 58,
     "metadata": {},
     "output_type": "execute_result"
    }
   ],
   "source": [
    "xgbm_predictions = xgbm.predict(X_test)\n",
    "acc_xgbm = accuracy_score(y_test,xgbm_predictions)\n",
    "acc_xgbm"
   ]
  },
  {
   "cell_type": "code",
   "execution_count": 59,
   "id": "83356940",
   "metadata": {},
   "outputs": [],
   "source": [
    "# Save predictions with probabilities in order to later make the ensembling\n",
    "xgbm_predictions_prob = xgbm.predict_proba(X_test)\n",
    "xgbm_predictions_prob = xgbm_predictions_prob[:,1]"
   ]
  },
  {
   "cell_type": "markdown",
   "id": "cdc5f272",
   "metadata": {},
   "source": [
    "<h2>4. Artificial Neural Networks</h2>"
   ]
  },
  {
   "cell_type": "code",
   "execution_count": 60,
   "id": "bf719086",
   "metadata": {},
   "outputs": [],
   "source": [
    "# Prepare the data\n",
    "X_train, X_test, y_train, y_test = train_test_split(X, y, test_size= 1/3, \n",
    "                                                    stratify=y, random_state=10)\n",
    "# scale the data (mean=0, sd=1)\n",
    "X_train = scale(X_train)\n",
    "X_test = scale(X_test)"
   ]
  },
  {
   "cell_type": "markdown",
   "id": "b8c157f5",
   "metadata": {},
   "source": [
    "* Hyperparameters optimization"
   ]
  },
  {
   "cell_type": "code",
   "execution_count": 61,
   "id": "f87f2aca",
   "metadata": {},
   "outputs": [],
   "source": [
    "# ROUND 1\n",
    "\n",
    "# first we need to define the model \n",
    "def ANN_1(neurons=10, hidden_layers=0, dropout_rate=0, learn_rate= 0.1):\n",
    "    # model\n",
    "    model = keras.Sequential()\n",
    "    model.add(keras.layers.Dense(neurons, input_shape = (X_train.shape[1], ), activation='relu'))\n",
    "    for i in range(hidden_layers):\n",
    "        # Add one hidden layer\n",
    "        model.add(keras.layers.Dense(neurons, activation='relu'))\n",
    "        model.add(keras.layers.Dropout(dropout_rate))\n",
    "    model.add(keras.layers.Dense(1, activation='sigmoid'))\n",
    "    # Compile model\n",
    "    optimizer = keras.optimizers.SGD(lr=learn_rate, momentum = 0)\n",
    "    model.compile(loss='binary_crossentropy', optimizer=optimizer, metrics=['accuracy'])\n",
    "    return model\n",
    "\n",
    "# we will do the grid search with KerasClassifier\n",
    "ann = KerasClassifier(build_fn=ANN_1, batch_size=30)\n",
    "\n",
    "\n",
    "param_grid = {\n",
    "    'neurons': [10, 30, 60, 100, 200],\n",
    "    'hidden_layers': [0, 1, 2],\n",
    "    'dropout_rate': [0, 0.1, 0.2, 0.4],\n",
    "    'epochs': [8,15],\n",
    "    'learn_rate': [0.1, 0.03]\n",
    "}\n",
    "\n",
    "cv = StratifiedKFold(n_splits=3)\n",
    "\n",
    "optimal_params = GridSearchCV(estimator=ann, param_grid=param_grid, verbose=2, cv=cv)\n",
    "\n",
    " \n",
    "# ROUND 2\n",
    "\n",
    "def ANN_2(init_mode='uniform', activation='relu'):\n",
    "    # model\n",
    "    model = keras.Sequential()\n",
    "    model.add(keras.layers.Dense(10,kernel_initializer=init_mode,\n",
    "                                 input_shape = (X_train.shape[1], ), activation=activation))\n",
    "    model.add(keras.layers.Dense(10, kernel_initializer=init_mode,activation=activation))\n",
    "    model.add(keras.layers.Dropout(0.2))\n",
    "    model.add(keras.layers.Dense(1,kernel_initializer=init_mode, activation='sigmoid'))\n",
    "    # Compile model\n",
    "    optimizer = keras.optimizers.SGD(lr=0.1, momentum = 0)\n",
    "    model.compile(loss='binary_crossentropy', optimizer=optimizer, metrics=['accuracy'])\n",
    "    return model\n",
    "\n",
    "\n",
    "ann = KerasClassifier(build_fn=ANN_2, epochs= 15,  batch_size=30)\n",
    "\n",
    "\n",
    "param_grid = {\n",
    "    'init_mode': ['uniform', 'lecun_uniform', 'normal', 'zero', 'glorot_normal',\n",
    "                  'glorot_uniform', 'he_normal', 'he_uniform'],\n",
    "    'activation': ['softmax','relu', 'tanh', 'sigmoid']\n",
    "}\n",
    "\n",
    "\n",
    "cv = StratifiedKFold(n_splits=3)\n",
    "\n",
    "\n",
    "optimal_params = GridSearchCV(estimator=ann, param_grid=param_grid, verbose=2, cv=cv)\n",
    "\n",
    " "
   ]
  },
  {
   "cell_type": "code",
   "execution_count": null,
   "id": "bffc729b",
   "metadata": {},
   "outputs": [],
   "source": []
  },
  {
   "cell_type": "code",
   "execution_count": 62,
   "id": "c2e570c8",
   "metadata": {},
   "outputs": [
    {
     "name": "stderr",
     "output_type": "stream",
     "text": [
      "C:\\Users\\DELL\\anaconda3\\lib\\site-packages\\scikeras\\wrappers.py:290: UserWarning: ``build_fn`` will be renamed to ``model`` in a future release, at which point use of ``build_fn`` will raise an Error instead.\n",
      "  \"``build_fn`` will be renamed to ``model`` in a future release,\"\n",
      "C:\\Users\\DELL\\anaconda3\\lib\\site-packages\\keras\\optimizer_v2\\gradient_descent.py:102: UserWarning: The `lr` argument is deprecated, use `learning_rate` instead.\n",
      "  super(SGD, self).__init__(name, **kwargs)\n",
      "C:\\Users\\DELL\\anaconda3\\lib\\site-packages\\scikeras\\wrappers.py:290: UserWarning: ``build_fn`` will be renamed to ``model`` in a future release, at which point use of ``build_fn`` will raise an Error instead.\n",
      "  \"``build_fn`` will be renamed to ``model`` in a future release,\"\n",
      "C:\\Users\\DELL\\anaconda3\\lib\\site-packages\\keras\\optimizer_v2\\gradient_descent.py:102: UserWarning: The `lr` argument is deprecated, use `learning_rate` instead.\n",
      "  super(SGD, self).__init__(name, **kwargs)\n",
      "C:\\Users\\DELL\\anaconda3\\lib\\site-packages\\scikeras\\wrappers.py:290: UserWarning: ``build_fn`` will be renamed to ``model`` in a future release, at which point use of ``build_fn`` will raise an Error instead.\n",
      "  \"``build_fn`` will be renamed to ``model`` in a future release,\"\n",
      "C:\\Users\\DELL\\anaconda3\\lib\\site-packages\\keras\\optimizer_v2\\gradient_descent.py:102: UserWarning: The `lr` argument is deprecated, use `learning_rate` instead.\n",
      "  super(SGD, self).__init__(name, **kwargs)\n"
     ]
    },
    {
     "data": {
      "text/plain": [
       "0.8460313924147713"
      ]
     },
     "execution_count": 62,
     "metadata": {},
     "output_type": "execute_result"
    }
   ],
   "source": [
    "def ANN_():\n",
    "    model = keras.Sequential()\n",
    "    model.add(keras.layers.Dense(10,kernel_initializer='uniform',\n",
    "                                 input_shape = (X_train.shape[1], ), activation='relu'))\n",
    "    model.add(keras.layers.Dense(10, kernel_initializer='uniform',activation='relu'))\n",
    "    model.add(keras.layers.Dropout(0.2))\n",
    "    model.add(keras.layers.Dense(1,kernel_initializer='uniform', activation='sigmoid'))\n",
    "    # Compile model\n",
    "    optimizer = keras.optimizers.SGD(lr=0.1, momentum = 0)\n",
    "    model.compile(loss='binary_crossentropy', optimizer=optimizer, metrics=['accuracy'])\n",
    "    return model\n",
    "\n",
    "# we define a learning rate schedule in order to decrease the learning rate\n",
    "# as we epoch increases.\n",
    "\n",
    "def scheduler(epoch, lr):\n",
    "  if epoch < 10:\n",
    "    return lr\n",
    "  if epoch < 15:\n",
    "\t  return 0.05\n",
    "  else:\n",
    "      return 0.01\n",
    "\n",
    "\n",
    "# Early stopping: stop the learning when it has 3 consecutive epoch without improvement\n",
    "callback2 = tf.keras.callbacks.EarlyStopping(monitor='loss', patience=3)\n",
    "# Learning rate schedule\n",
    "callback = tf.keras.callbacks.LearningRateScheduler(scheduler)\n",
    "\n",
    "ann = KerasClassifier(build_fn=ANN_, epochs= 15,  batch_size=30, verbose=0)\n",
    "\n",
    "\n",
    "# CROSS VALIDATION\n",
    "cv = StratifiedKFold(n_splits=3)\n",
    "val_ann= cross_val_score(ann, X_train, y_train,\n",
    "                         cv=cv, fit_params={'callbacks': [callback,callback2]}).mean()\n",
    "val_ann # validation score"
   ]
  },
  {
   "cell_type": "code",
   "execution_count": 63,
   "id": "5c06bf51",
   "metadata": {},
   "outputs": [
    {
     "name": "stderr",
     "output_type": "stream",
     "text": [
      "C:\\Users\\DELL\\anaconda3\\lib\\site-packages\\keras\\optimizer_v2\\gradient_descent.py:102: UserWarning: The `lr` argument is deprecated, use `learning_rate` instead.\n",
      "  super(SGD, self).__init__(name, **kwargs)\n"
     ]
    },
    {
     "data": {
      "text/plain": [
       "0.8548836284066044"
      ]
     },
     "execution_count": 63,
     "metadata": {},
     "output_type": "execute_result"
    }
   ],
   "source": [
    "n_members = 10\n",
    "ann_dict = {} # dictionary where we will store the predictions\n",
    "\n",
    "for i in range(n_members):\n",
    "    ann = ANN_()\n",
    "    ann.fit(X_train, y_train, epochs=15, batch_size=30, \n",
    "            verbose=0, callbacks=[callback, callback2])\n",
    "    ann_predictions = ann.predict(X_test)\n",
    "    ann_predictions = ann_predictions.reshape(ann_predictions.shape[0], )\n",
    "    ann_dict[\"ann%s\" %i] = ann_predictions\n",
    "\n",
    "# create a pandas DataFrame from the dictionary\n",
    "ann_dataframe = pd.DataFrame.from_dict(ann_dict)\n",
    "\n",
    "ann_mean_prob = ann_dataframe.mean(axis=1) #averaging all the ANN predictions for each row\n",
    "ann_mean = np.where(ann_mean_prob > 0.5, 1, 0) # transforem probabilities to a binary variable\n",
    "acc_ann = accuracy_score(y_test, ann_mean)\n",
    "acc_ann # test score"
   ]
  },
  {
   "cell_type": "code",
   "execution_count": 64,
   "id": "fde30cc8",
   "metadata": {},
   "outputs": [
    {
     "data": {
      "text/plain": [
       "array([0.78799477, 0.85871278, 0.86791324, 0.84603139])"
      ]
     },
     "execution_count": 64,
     "metadata": {},
     "output_type": "execute_result"
    }
   ],
   "source": [
    "np.array([val_cnb, val_Rforest, val_xgbm, val_ann])"
   ]
  },
  {
   "cell_type": "markdown",
   "id": "7dc795a3",
   "metadata": {},
   "source": [
    "<h2>5. ANN-XGBoost Ensemble<h2>"
   ]
  },
  {
   "cell_type": "code",
   "execution_count": 65,
   "id": "39972101",
   "metadata": {},
   "outputs": [
    {
     "data": {
      "text/plain": [
       "0.8703998408593595"
      ]
     },
     "execution_count": 65,
     "metadata": {},
     "output_type": "execute_result"
    }
   ],
   "source": [
    "best_predictions = pd.DataFrame(data= {'ann':ann_mean_prob, \n",
    "                                       'xgb':xgbm_predictions_prob})\n",
    "\n",
    "# We give a higher weight to XGBoost\n",
    "ensembling = best_predictions['ann']* 0.4 + best_predictions['xgb']*0.6\n",
    "\n",
    "# Probabilities to binary\n",
    "ensembling_binary = np.where(ensembling > 0.5, 1, 0)\n",
    "acc_ensembling = accuracy_score(y_test, ensembling_binary)\n",
    "acc_ensembling # test score"
   ]
  },
  {
   "cell_type": "code",
   "execution_count": 66,
   "id": "23a31ba3",
   "metadata": {},
   "outputs": [
    {
     "data": {
      "text/html": [
       "<div>\n",
       "<style scoped>\n",
       "    .dataframe tbody tr th:only-of-type {\n",
       "        vertical-align: middle;\n",
       "    }\n",
       "\n",
       "    .dataframe tbody tr th {\n",
       "        vertical-align: top;\n",
       "    }\n",
       "\n",
       "    .dataframe thead th {\n",
       "        text-align: right;\n",
       "    }\n",
       "</style>\n",
       "<table border=\"1\" class=\"dataframe\">\n",
       "  <thead>\n",
       "    <tr style=\"text-align: right;\">\n",
       "      <th></th>\n",
       "      <th>Accuracy</th>\n",
       "    </tr>\n",
       "  </thead>\n",
       "  <tbody>\n",
       "    <tr>\n",
       "      <th>Gaussian naive base</th>\n",
       "      <td>0.791725</td>\n",
       "    </tr>\n",
       "    <tr>\n",
       "      <th>Random Forest</th>\n",
       "      <td>0.856873</td>\n",
       "    </tr>\n",
       "    <tr>\n",
       "      <th>XGBoost</th>\n",
       "      <td>0.868510</td>\n",
       "    </tr>\n",
       "    <tr>\n",
       "      <th>Artificial Neural Networks</th>\n",
       "      <td>0.854884</td>\n",
       "    </tr>\n",
       "    <tr>\n",
       "      <th>XGBoost-ANN Ensembling</th>\n",
       "      <td>0.870400</td>\n",
       "    </tr>\n",
       "  </tbody>\n",
       "</table>\n",
       "</div>"
      ],
      "text/plain": [
       "                            Accuracy\n",
       "Gaussian naive base         0.791725\n",
       "Random Forest               0.856873\n",
       "XGBoost                     0.868510\n",
       "Artificial Neural Networks  0.854884\n",
       "XGBoost-ANN Ensembling      0.870400"
      ]
     },
     "execution_count": 66,
     "metadata": {},
     "output_type": "execute_result"
    }
   ],
   "source": [
    "results = {'Gaussian naive base':acc_gnb,\n",
    "           'Random Forest': acc_Rforest,\n",
    "           'XGBoost':acc_xgbm ,\n",
    "           'Artificial Neural Networks':acc_ann ,\n",
    "           'XGBoost-ANN Ensembling': acc_ensembling,         \n",
    "          }\n",
    "\n",
    "results_dataframe = pd.DataFrame.from_dict(results, orient='index', \n",
    "                                           columns=['Accuracy'])\n",
    "results_dataframe"
   ]
  },
  {
   "cell_type": "code",
   "execution_count": null,
   "id": "a25491ab",
   "metadata": {},
   "outputs": [],
   "source": []
  },
  {
   "cell_type": "code",
   "execution_count": null,
   "id": "6813fe9d",
   "metadata": {},
   "outputs": [],
   "source": []
  }
 ],
 "metadata": {
  "kernelspec": {
   "display_name": "Python 3",
   "language": "python",
   "name": "python3"
  },
  "language_info": {
   "codemirror_mode": {
    "name": "ipython",
    "version": 3
   },
   "file_extension": ".py",
   "mimetype": "text/x-python",
   "name": "python",
   "nbconvert_exporter": "python",
   "pygments_lexer": "ipython3",
   "version": "3.8.8"
  }
 },
 "nbformat": 4,
 "nbformat_minor": 5
}
